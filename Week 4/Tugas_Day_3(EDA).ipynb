{
 "cells": [
  {
   "cell_type": "markdown",
   "metadata": {
    "id": "EqmubOp2whk3"
   },
   "source": [
    "# Soal 1. Pemahaman k-means clustering\n",
    "\n",
    "Jelaskan bagaimana cara kerja k-means clustering!"
   ]
  },
  {
   "cell_type": "markdown",
   "metadata": {
    "id": "gf8y3llqw369"
   },
   "source": [
    "Jawab disini:\n",
    "\n"
   ]
  },
  {
   "cell_type": "markdown",
   "metadata": {
    "id": "oXGsjqHCk7DW"
   },
   "source": [
    "K-means clustering bekerja dengan cara mengelompokkan data-data sesuai banyaknya k, pengelompokkan dilakukan dengan cara mengelompokkan data yang memiliki jarak terdekat dengan centroid yang dibangkitkan secara random sebanyak k.\n",
    "\n",
    "---\n",
    "\n",
    "---\n",
    "\n",
    "\n",
    "\n",
    "---\n",
    "\n",
    "\n",
    "\n",
    "\n",
    "\n",
    "\n",
    "\n",
    "\n",
    "\n",
    "\n",
    "\n",
    "\n",
    "\n",
    "---\n",
    "\n"
   ]
  },
  {
   "cell_type": "markdown",
   "metadata": {
    "id": "NoX-A3wElHoq"
   },
   "source": [
    "Download disini [pelanggan.csv](https://drive.google.com/uc?export=download&id=1jX_rLPfcCfzEEgy9xaoALmpqfU2s5TTB)"
   ]
  },
  {
   "cell_type": "code",
   "execution_count": 9,
   "metadata": {
    "colab": {
     "base_uri": "https://localhost:8080/",
     "height": 204
    },
    "executionInfo": {
     "elapsed": 776,
     "status": "ok",
     "timestamp": 1617786708008,
     "user": {
      "displayName": "Afrida hafizhatul Ulum",
      "photoUrl": "https://lh3.googleusercontent.com/a-/AOh14GhlS_9Q6i4q4ai8Ae6HYz-8Ub9PE3QIsxfVPf8tEQ=s64",
      "userId": "06287560445691811212"
     },
     "user_tz": -420
    },
    "id": "rqRBoUBsw7S0",
    "outputId": "4795491d-6d80-4b6d-dbc1-f6afb60bd02d"
   },
   "outputs": [
    {
     "data": {
      "text/html": [
       "<div>\n",
       "<style scoped>\n",
       "    .dataframe tbody tr th:only-of-type {\n",
       "        vertical-align: middle;\n",
       "    }\n",
       "\n",
       "    .dataframe tbody tr th {\n",
       "        vertical-align: top;\n",
       "    }\n",
       "\n",
       "    .dataframe thead th {\n",
       "        text-align: right;\n",
       "    }\n",
       "</style>\n",
       "<table border=\"1\" class=\"dataframe\">\n",
       "  <thead>\n",
       "    <tr style=\"text-align: right;\">\n",
       "      <th></th>\n",
       "      <th>ID_pelanggan</th>\n",
       "      <th>Jenis Kelamin</th>\n",
       "      <th>Umur</th>\n",
       "      <th>Pendapatan pertahun (juta)</th>\n",
       "      <th>Skor Belanja (1-100)</th>\n",
       "    </tr>\n",
       "  </thead>\n",
       "  <tbody>\n",
       "    <tr>\n",
       "      <td>0</td>\n",
       "      <td>1</td>\n",
       "      <td>Laki-laki</td>\n",
       "      <td>19.0</td>\n",
       "      <td>15</td>\n",
       "      <td>39.0</td>\n",
       "    </tr>\n",
       "    <tr>\n",
       "      <td>1</td>\n",
       "      <td>2</td>\n",
       "      <td>Laki-laki</td>\n",
       "      <td>21.0</td>\n",
       "      <td>15</td>\n",
       "      <td>81.0</td>\n",
       "    </tr>\n",
       "    <tr>\n",
       "      <td>2</td>\n",
       "      <td>3</td>\n",
       "      <td>Perempuan</td>\n",
       "      <td>20.0</td>\n",
       "      <td>16</td>\n",
       "      <td>6.0</td>\n",
       "    </tr>\n",
       "    <tr>\n",
       "      <td>3</td>\n",
       "      <td>4</td>\n",
       "      <td>Perempuan</td>\n",
       "      <td>23.0</td>\n",
       "      <td>16</td>\n",
       "      <td>77.0</td>\n",
       "    </tr>\n",
       "    <tr>\n",
       "      <td>4</td>\n",
       "      <td>5</td>\n",
       "      <td>Perempuan</td>\n",
       "      <td>31.0</td>\n",
       "      <td>17</td>\n",
       "      <td>40.0</td>\n",
       "    </tr>\n",
       "  </tbody>\n",
       "</table>\n",
       "</div>"
      ],
      "text/plain": [
       "   ID_pelanggan Jenis Kelamin  Umur  Pendapatan pertahun (juta)  \\\n",
       "0             1     Laki-laki  19.0                          15   \n",
       "1             2     Laki-laki  21.0                          15   \n",
       "2             3     Perempuan  20.0                          16   \n",
       "3             4     Perempuan  23.0                          16   \n",
       "4             5     Perempuan  31.0                          17   \n",
       "\n",
       "   Skor Belanja (1-100)  \n",
       "0                  39.0  \n",
       "1                  81.0  \n",
       "2                   6.0  \n",
       "3                  77.0  \n",
       "4                  40.0  "
      ]
     },
     "execution_count": 9,
     "metadata": {},
     "output_type": "execute_result"
    }
   ],
   "source": [
    "import pandas as pd\n",
    "df = pd.read_csv('pelanggan_supermarket.csv')\n",
    "df.head()"
   ]
  },
  {
   "cell_type": "markdown",
   "metadata": {
    "id": "AByM6XoYMkTy"
   },
   "source": [
    "# Soal 2. Clustering data menggunakan k-means clustering\n",
    "\n",
    "Dalam soal ini, kalian diminta untuk melakukan clustering antara data Umur dan Skor Belanja(1-100). Namun, clustering tidak bisa dilakukan karena data memiliki outlier dan missing value. Maka, lakukanlah tahapan-tahapan berikut:\n",
    "\n",
    "*   Handling missing value dengan menggunakan method ='ffill'\n",
    "*   Handling outlier menggunakan metode Interquartile range\n",
    "*   Lakukan rescaling data menggunakan StandardScaler\n",
    "*   Lakukan clustering menggunakan kmeans clustering dengan k =2, dan visualisasikan.. \n",
    "*   Gunakan Elbow method untuk menemukan jumlah k kluster yang tepat\n",
    "*   Gunakan k=3 (rekomendasi methode Elbow) lalu visualisasikan\n",
    "*   Hitung silhoutte Coefficient dari ke dua hasil prediksi klustering tersebut\n",
    "\n",
    "\n",
    "\n",
    "\n",
    "\n",
    "\n",
    "\n",
    "\n"
   ]
  },
  {
   "cell_type": "code",
   "execution_count": 10,
   "metadata": {
    "id": "l2u2IRm4Ou_9"
   },
   "outputs": [
    {
     "data": {
      "text/plain": [
       "ID_pelanggan                  0\n",
       "Jenis Kelamin                 0\n",
       "Umur                          5\n",
       "Pendapatan pertahun (juta)    0\n",
       "Skor Belanja (1-100)          4\n",
       "dtype: int64"
      ]
     },
     "execution_count": 10,
     "metadata": {},
     "output_type": "execute_result"
    }
   ],
   "source": [
    "#code here\n",
    "import matplotlib.pyplot as plt\n",
    "import numpy as np\n",
    "from sklearn.preprocessing import StandardScaler\n",
    "from sklearn.cluster import KMeans\n",
    "\n",
    "# Cek missing value\n",
    "df.isnull().sum()\n"
   ]
  },
  {
   "cell_type": "code",
   "execution_count": 11,
   "metadata": {},
   "outputs": [],
   "source": [
    "# Handling missing value dengan menggunakan method ='ffill'\n",
    "df.fillna(method='ffill',inplace=True)"
   ]
  },
  {
   "cell_type": "code",
   "execution_count": 12,
   "metadata": {},
   "outputs": [
    {
     "data": {
      "text/plain": [
       "ID_pelanggan                  0\n",
       "Jenis Kelamin                 0\n",
       "Umur                          0\n",
       "Pendapatan pertahun (juta)    0\n",
       "Skor Belanja (1-100)          0\n",
       "dtype: int64"
      ]
     },
     "execution_count": 12,
     "metadata": {},
     "output_type": "execute_result"
    }
   ],
   "source": [
    "# Cek missing value lagi\n",
    "df.isnull().sum()"
   ]
  },
  {
   "cell_type": "code",
   "execution_count": 13,
   "metadata": {},
   "outputs": [
    {
     "name": "stdout",
     "output_type": "stream",
     "text": [
      "[150.]\n",
      "[120.]\n"
     ]
    }
   ],
   "source": [
    "#Fungsi untuk mencari nilai outliers\n",
    "\n",
    "def get_lower_upper_bound(x):\n",
    "    q1 = np.percentile(x,25)\n",
    "    q3 = np.percentile(x,75)\n",
    "    q2 = q3 - q1\n",
    "    Lb = q1 - (q2 * 1.5)\n",
    "    Ub = q3 + (q2 * 1.5)\n",
    "    return Lb, Ub\n",
    "\n",
    "def get_outliers(x):\n",
    "    lower_bound, upper_bound = get_lower_upper_bound(x)\n",
    "    return x[np.where((x > upper_bound) | (x < lower_bound))]\n",
    "\n",
    "print(get_outliers(df['Skor Belanja (1-100)'].values))\n",
    "print(get_outliers(df['Umur'].values))"
   ]
  },
  {
   "cell_type": "code",
   "execution_count": 17,
   "metadata": {},
   "outputs": [],
   "source": [
    "#handling outlier menggunakan method IQR\n",
    "\n",
    "def remove_outliers_iqr(df):\n",
    "    q1 = df.quantile(0.25)\n",
    "    q3 = df.quantile(0.75)\n",
    "    iqr = q3 - q1\n",
    "    Lb = q1 - (iqr * 1.5)\n",
    "    Ub = q3 + (iqr * 1.5)\n",
    "    df_final = df[~((df<Lb) | (df>Ub))]\n",
    "    return df_final"
   ]
  },
  {
   "cell_type": "code",
   "execution_count": 18,
   "metadata": {},
   "outputs": [
    {
     "data": {
      "text/html": [
       "<div>\n",
       "<style scoped>\n",
       "    .dataframe tbody tr th:only-of-type {\n",
       "        vertical-align: middle;\n",
       "    }\n",
       "\n",
       "    .dataframe tbody tr th {\n",
       "        vertical-align: top;\n",
       "    }\n",
       "\n",
       "    .dataframe thead th {\n",
       "        text-align: right;\n",
       "    }\n",
       "</style>\n",
       "<table border=\"1\" class=\"dataframe\">\n",
       "  <thead>\n",
       "    <tr style=\"text-align: right;\">\n",
       "      <th></th>\n",
       "      <th>Umur</th>\n",
       "      <th>Skor Belanja (1-100)</th>\n",
       "    </tr>\n",
       "  </thead>\n",
       "  <tbody>\n",
       "    <tr>\n",
       "      <td>0</td>\n",
       "      <td>19.0</td>\n",
       "      <td>39.0</td>\n",
       "    </tr>\n",
       "    <tr>\n",
       "      <td>1</td>\n",
       "      <td>21.0</td>\n",
       "      <td>81.0</td>\n",
       "    </tr>\n",
       "    <tr>\n",
       "      <td>2</td>\n",
       "      <td>20.0</td>\n",
       "      <td>6.0</td>\n",
       "    </tr>\n",
       "    <tr>\n",
       "      <td>3</td>\n",
       "      <td>23.0</td>\n",
       "      <td>77.0</td>\n",
       "    </tr>\n",
       "    <tr>\n",
       "      <td>4</td>\n",
       "      <td>31.0</td>\n",
       "      <td>40.0</td>\n",
       "    </tr>\n",
       "    <tr>\n",
       "      <td>...</td>\n",
       "      <td>...</td>\n",
       "      <td>...</td>\n",
       "    </tr>\n",
       "    <tr>\n",
       "      <td>245</td>\n",
       "      <td>59.0</td>\n",
       "      <td>14.0</td>\n",
       "    </tr>\n",
       "    <tr>\n",
       "      <td>246</td>\n",
       "      <td>35.0</td>\n",
       "      <td>90.0</td>\n",
       "    </tr>\n",
       "    <tr>\n",
       "      <td>247</td>\n",
       "      <td>37.0</td>\n",
       "      <td>32.0</td>\n",
       "    </tr>\n",
       "    <tr>\n",
       "      <td>248</td>\n",
       "      <td>32.0</td>\n",
       "      <td>86.0</td>\n",
       "    </tr>\n",
       "    <tr>\n",
       "      <td>249</td>\n",
       "      <td>NaN</td>\n",
       "      <td>15.0</td>\n",
       "    </tr>\n",
       "  </tbody>\n",
       "</table>\n",
       "<p>250 rows × 2 columns</p>\n",
       "</div>"
      ],
      "text/plain": [
       "     Umur  Skor Belanja (1-100)\n",
       "0    19.0                  39.0\n",
       "1    21.0                  81.0\n",
       "2    20.0                   6.0\n",
       "3    23.0                  77.0\n",
       "4    31.0                  40.0\n",
       "..    ...                   ...\n",
       "245  59.0                  14.0\n",
       "246  35.0                  90.0\n",
       "247  37.0                  32.0\n",
       "248  32.0                  86.0\n",
       "249   NaN                  15.0\n",
       "\n",
       "[250 rows x 2 columns]"
      ]
     },
     "execution_count": 18,
     "metadata": {},
     "output_type": "execute_result"
    }
   ],
   "source": [
    "removed_outliers = remove_outliers_iqr(df[['Umur','Skor Belanja (1-100)']])\n",
    "removed_outliers"
   ]
  },
  {
   "cell_type": "code",
   "execution_count": 24,
   "metadata": {},
   "outputs": [
    {
     "data": {
      "text/plain": [
       "Umur                    1\n",
       "Skor Belanja (1-100)    1\n",
       "dtype: int64"
      ]
     },
     "execution_count": 24,
     "metadata": {},
     "output_type": "execute_result"
    }
   ],
   "source": [
    "#cek missing value dari dataset removed_outliers\n",
    "\n",
    "removed_outliers.isnull().sum()"
   ]
  },
  {
   "cell_type": "code",
   "execution_count": 25,
   "metadata": {},
   "outputs": [],
   "source": [
    "#drop missing value dari dataset removed_outliers\n",
    "\n",
    "removed_outliers.dropna(axis=0,inplace=True)"
   ]
  },
  {
   "cell_type": "code",
   "execution_count": 26,
   "metadata": {},
   "outputs": [
    {
     "data": {
      "text/plain": [
       "Umur                    0\n",
       "Skor Belanja (1-100)    0\n",
       "dtype: int64"
      ]
     },
     "execution_count": 26,
     "metadata": {},
     "output_type": "execute_result"
    }
   ],
   "source": [
    "#cek missing value dari dataset removed_outliers lagi\n",
    "\n",
    "removed_outliers.isnull().sum()"
   ]
  },
  {
   "cell_type": "code",
   "execution_count": 28,
   "metadata": {},
   "outputs": [
    {
     "data": {
      "text/plain": [
       "<matplotlib.axes._subplots.AxesSubplot at 0x1f46547b3c8>"
      ]
     },
     "execution_count": 28,
     "metadata": {},
     "output_type": "execute_result"
    },
    {
     "data": {
      "image/png": "[encoded data removed]",
      "text/plain": [
       "<Figure size 432x288 with 1 Axes>"
      ]
     },
     "metadata": {
      "needs_background": "light"
     },
     "output_type": "display_data"
    }
   ],
   "source": [
    "#Cek Outliers dari dataset removed_outliers lagi\n",
    "import seaborn as sns\n",
    "\n",
    "sns.boxplot(x=removed_outliers['Skor Belanja (1-100)'])"
   ]
  },
  {
   "cell_type": "code",
   "execution_count": 29,
   "metadata": {
    "scrolled": true
   },
   "outputs": [
    {
     "data": {
      "text/plain": [
       "<matplotlib.axes._subplots.AxesSubplot at 0x1f465554d08>"
      ]
     },
     "execution_count": 29,
     "metadata": {},
     "output_type": "execute_result"
    },
    {
     "data": {
      "image/png": "[encoded data removed]",
      "text/plain": [
       "<Figure size 432x288 with 1 Axes>"
      ]
     },
     "metadata": {
      "needs_background": "light"
     },
     "output_type": "display_data"
    }
   ],
   "source": [
    "sns.boxplot(x=removed_outliers['Umur'])"
   ]
  },
  {
   "cell_type": "code",
   "execution_count": 31,
   "metadata": {},
   "outputs": [],
   "source": [
    "#Scalling data menggunakan StandardScaler untuk data set removed_outliers\n",
    "\n",
    "sc = StandardScaler()\n",
    "df_scalling = sc.fit_transform(removed_outliers)"
   ]
  },
  {
   "cell_type": "code",
   "execution_count": 33,
   "metadata": {},
   "outputs": [
    {
     "data": {
      "text/html": [
       "<div>\n",
       "<style scoped>\n",
       "    .dataframe tbody tr th:only-of-type {\n",
       "        vertical-align: middle;\n",
       "    }\n",
       "\n",
       "    .dataframe tbody tr th {\n",
       "        vertical-align: top;\n",
       "    }\n",
       "\n",
       "    .dataframe thead th {\n",
       "        text-align: right;\n",
       "    }\n",
       "</style>\n",
       "<table border=\"1\" class=\"dataframe\">\n",
       "  <thead>\n",
       "    <tr style=\"text-align: right;\">\n",
       "      <th></th>\n",
       "      <th>Umur</th>\n",
       "      <th>Skor Belanja (1-100)</th>\n",
       "    </tr>\n",
       "  </thead>\n",
       "  <tbody>\n",
       "    <tr>\n",
       "      <td>0</td>\n",
       "      <td>-1.455005</td>\n",
       "      <td>-0.396407</td>\n",
       "    </tr>\n",
       "    <tr>\n",
       "      <td>1</td>\n",
       "      <td>-1.304215</td>\n",
       "      <td>1.119369</td>\n",
       "    </tr>\n",
       "    <tr>\n",
       "      <td>2</td>\n",
       "      <td>-1.379610</td>\n",
       "      <td>-1.587373</td>\n",
       "    </tr>\n",
       "    <tr>\n",
       "      <td>3</td>\n",
       "      <td>-1.153425</td>\n",
       "      <td>0.975009</td>\n",
       "    </tr>\n",
       "    <tr>\n",
       "      <td>4</td>\n",
       "      <td>-0.550263</td>\n",
       "      <td>-0.360317</td>\n",
       "    </tr>\n",
       "    <tr>\n",
       "      <td>...</td>\n",
       "      <td>...</td>\n",
       "      <td>...</td>\n",
       "    </tr>\n",
       "    <tr>\n",
       "      <td>243</td>\n",
       "      <td>-0.851844</td>\n",
       "      <td>0.686290</td>\n",
       "    </tr>\n",
       "    <tr>\n",
       "      <td>244</td>\n",
       "      <td>1.560802</td>\n",
       "      <td>-1.298654</td>\n",
       "    </tr>\n",
       "    <tr>\n",
       "      <td>245</td>\n",
       "      <td>-0.248682</td>\n",
       "      <td>1.444178</td>\n",
       "    </tr>\n",
       "    <tr>\n",
       "      <td>246</td>\n",
       "      <td>-0.097892</td>\n",
       "      <td>-0.649036</td>\n",
       "    </tr>\n",
       "    <tr>\n",
       "      <td>247</td>\n",
       "      <td>-0.474868</td>\n",
       "      <td>1.299818</td>\n",
       "    </tr>\n",
       "  </tbody>\n",
       "</table>\n",
       "<p>248 rows × 2 columns</p>\n",
       "</div>"
      ],
      "text/plain": [
       "         Umur  Skor Belanja (1-100)\n",
       "0   -1.455005             -0.396407\n",
       "1   -1.304215              1.119369\n",
       "2   -1.379610             -1.587373\n",
       "3   -1.153425              0.975009\n",
       "4   -0.550263             -0.360317\n",
       "..        ...                   ...\n",
       "243 -0.851844              0.686290\n",
       "244  1.560802             -1.298654\n",
       "245 -0.248682              1.444178\n",
       "246 -0.097892             -0.649036\n",
       "247 -0.474868              1.299818\n",
       "\n",
       "[248 rows x 2 columns]"
      ]
     },
     "execution_count": 33,
     "metadata": {},
     "output_type": "execute_result"
    }
   ],
   "source": [
    "#cek dataset baru yang telah di scalling\n",
    "\n",
    "df_baru_scaling = pd.DataFrame(data=df_scalling,columns=['Umur','Skor Belanja (1-100)'])\n",
    "df_baru_scaling"
   ]
  },
  {
   "cell_type": "code",
   "execution_count": 39,
   "metadata": {},
   "outputs": [],
   "source": [
    "#mulai clustering menggunakan Kmeans\n",
    "\n",
    "kmeans1 = KMeans(n_clusters=2,random_state=42).fit(df_scalling)\n",
    "labels1 = kmeans1.labels_"
   ]
  },
  {
   "cell_type": "code",
   "execution_count": 40,
   "metadata": {},
   "outputs": [],
   "source": [
    "df_with_labels = pd.DataFrame(data=df_scalling,columns=['Umur','Skor Belanja (1-100)'])\n",
    "df_with_labels['Labels_kmeans1'] = labels1"
   ]
  },
  {
   "cell_type": "code",
   "execution_count": 41,
   "metadata": {},
   "outputs": [
    {
     "data": {
      "text/html": [
       "<div>\n",
       "<style scoped>\n",
       "    .dataframe tbody tr th:only-of-type {\n",
       "        vertical-align: middle;\n",
       "    }\n",
       "\n",
       "    .dataframe tbody tr th {\n",
       "        vertical-align: top;\n",
       "    }\n",
       "\n",
       "    .dataframe thead th {\n",
       "        text-align: right;\n",
       "    }\n",
       "</style>\n",
       "<table border=\"1\" class=\"dataframe\">\n",
       "  <thead>\n",
       "    <tr style=\"text-align: right;\">\n",
       "      <th></th>\n",
       "      <th>Umur</th>\n",
       "      <th>Skor Belanja (1-100)</th>\n",
       "      <th>Labels_kmeans1</th>\n",
       "    </tr>\n",
       "  </thead>\n",
       "  <tbody>\n",
       "    <tr>\n",
       "      <td>0</td>\n",
       "      <td>-1.455005</td>\n",
       "      <td>-0.396407</td>\n",
       "      <td>0</td>\n",
       "    </tr>\n",
       "    <tr>\n",
       "      <td>1</td>\n",
       "      <td>-1.304215</td>\n",
       "      <td>1.119369</td>\n",
       "      <td>0</td>\n",
       "    </tr>\n",
       "    <tr>\n",
       "      <td>2</td>\n",
       "      <td>-1.379610</td>\n",
       "      <td>-1.587373</td>\n",
       "      <td>1</td>\n",
       "    </tr>\n",
       "    <tr>\n",
       "      <td>3</td>\n",
       "      <td>-1.153425</td>\n",
       "      <td>0.975009</td>\n",
       "      <td>0</td>\n",
       "    </tr>\n",
       "    <tr>\n",
       "      <td>4</td>\n",
       "      <td>-0.550263</td>\n",
       "      <td>-0.360317</td>\n",
       "      <td>0</td>\n",
       "    </tr>\n",
       "    <tr>\n",
       "      <td>...</td>\n",
       "      <td>...</td>\n",
       "      <td>...</td>\n",
       "      <td>...</td>\n",
       "    </tr>\n",
       "    <tr>\n",
       "      <td>243</td>\n",
       "      <td>-0.851844</td>\n",
       "      <td>0.686290</td>\n",
       "      <td>0</td>\n",
       "    </tr>\n",
       "    <tr>\n",
       "      <td>244</td>\n",
       "      <td>1.560802</td>\n",
       "      <td>-1.298654</td>\n",
       "      <td>1</td>\n",
       "    </tr>\n",
       "    <tr>\n",
       "      <td>245</td>\n",
       "      <td>-0.248682</td>\n",
       "      <td>1.444178</td>\n",
       "      <td>0</td>\n",
       "    </tr>\n",
       "    <tr>\n",
       "      <td>246</td>\n",
       "      <td>-0.097892</td>\n",
       "      <td>-0.649036</td>\n",
       "      <td>1</td>\n",
       "    </tr>\n",
       "    <tr>\n",
       "      <td>247</td>\n",
       "      <td>-0.474868</td>\n",
       "      <td>1.299818</td>\n",
       "      <td>0</td>\n",
       "    </tr>\n",
       "  </tbody>\n",
       "</table>\n",
       "<p>248 rows × 3 columns</p>\n",
       "</div>"
      ],
      "text/plain": [
       "         Umur  Skor Belanja (1-100)  Labels_kmeans1\n",
       "0   -1.455005             -0.396407               0\n",
       "1   -1.304215              1.119369               0\n",
       "2   -1.379610             -1.587373               1\n",
       "3   -1.153425              0.975009               0\n",
       "4   -0.550263             -0.360317               0\n",
       "..        ...                   ...             ...\n",
       "243 -0.851844              0.686290               0\n",
       "244  1.560802             -1.298654               1\n",
       "245 -0.248682              1.444178               0\n",
       "246 -0.097892             -0.649036               1\n",
       "247 -0.474868              1.299818               0\n",
       "\n",
       "[248 rows x 3 columns]"
      ]
     },
     "execution_count": 41,
     "metadata": {},
     "output_type": "execute_result"
    }
   ],
   "source": [
    "df_with_labels"
   ]
  },
  {
   "cell_type": "code",
   "execution_count": 60,
   "metadata": {},
   "outputs": [
    {
     "name": "stdout",
     "output_type": "stream",
     "text": [
      "n_cluster = 2\n"
     ]
    },
    {
     "data": {
      "image/png": "[encoded data removed]",
      "text/plain": [
       "<Figure size 864x576 with 1 Axes>"
      ]
     },
     "metadata": {
      "needs_background": "light"
     },
     "output_type": "display_data"
    }
   ],
   "source": [
    "#visualisasi hasil clustering\n",
    "\n",
    "print('n_cluster = 2')\n",
    "fig1, ax1 = plt.subplots(figsize=(12,8))\n",
    "ax1.scatter(df_with_labels['Umur'][df_with_labels.Labels_kmeans1 == 0],\n",
    "            df_with_labels['Skor Belanja (1-100)'][df_with_labels.Labels_kmeans1 == 0],\n",
    "           c='b',s=90,edgecolor='green')\n",
    "ax1.scatter(df_with_labels['Umur'][df_with_labels.Labels_kmeans1 == 1],\n",
    "            df_with_labels['Skor Belanja (1-100)'][df_with_labels.Labels_kmeans1 == 1],\n",
    "           c='r',s=90,edgecolor='green')\n",
    "ax1.set_xlabel('Umur')\n",
    "ax1.set_ylabel('Skor Belanja (1-100)')\n",
    "\n",
    "centers = kmeans1.cluster_centers_\n",
    "ax1.scatter(centers[:,0],centers[:,1],c='black',s=500)\n",
    "plt.show()"
   ]
  },
  {
   "cell_type": "code",
   "execution_count": 62,
   "metadata": {},
   "outputs": [
    {
     "name": "stderr",
     "output_type": "stream",
     "text": [
      "D:\\Anaconda\\lib\\site-packages\\sklearn\\cluster\\_kmeans.py:882: UserWarning: KMeans is known to have a memory leak on Windows with MKL, when there are less chunks than available threads. You can avoid it by setting the environment variable OMP_NUM_THREADS=1.\n",
      "  f\"KMeans is known to have a memory leak on Windows \"\n"
     ]
    },
    {
     "data": {
      "image/png": "[encoded data removed]",
      "text/plain": [
       "<Figure size 864x576 with 1 Axes>"
      ]
     },
     "metadata": {
      "needs_background": "light"
     },
     "output_type": "display_data"
    }
   ],
   "source": [
    "#menemukan jumlah k yang tepat menggunakan elbow graph\n",
    "\n",
    "wcss = []\n",
    "for i in range(1,11):\n",
    "    kmeans = KMeans(n_clusters = i,init='k-means++',random_state=42)\n",
    "    kmeans.fit(df_with_labels)\n",
    "    wcss.append(kmeans.inertia_)\n",
    "    \n",
    "fig2, ax2 = plt.subplots(figsize=(12,8))\n",
    "ax2.plot(range(1,11),wcss)\n",
    "ax2.set_xlabel('Number of clusters')\n",
    "ax2.set_ylabel('WCSS')\n",
    "ax2.set_title('The Elbow Method')\n",
    "plt.show()"
   ]
  },
  {
   "cell_type": "code",
   "execution_count": 63,
   "metadata": {},
   "outputs": [],
   "source": [
    "#percobaan K-means menggunakan number of clusters = 3\n",
    "\n",
    "kmeans2 = KMeans(n_clusters=3,random_state=42).fit(df_scalling)\n",
    "labels2 = kmeans2.labels_"
   ]
  },
  {
   "cell_type": "code",
   "execution_count": 64,
   "metadata": {},
   "outputs": [],
   "source": [
    "df_with_labels['Labels_kmeans2'] = labels2"
   ]
  },
  {
   "cell_type": "code",
   "execution_count": 65,
   "metadata": {},
   "outputs": [
    {
     "data": {
      "text/html": [
       "<div>\n",
       "<style scoped>\n",
       "    .dataframe tbody tr th:only-of-type {\n",
       "        vertical-align: middle;\n",
       "    }\n",
       "\n",
       "    .dataframe tbody tr th {\n",
       "        vertical-align: top;\n",
       "    }\n",
       "\n",
       "    .dataframe thead th {\n",
       "        text-align: right;\n",
       "    }\n",
       "</style>\n",
       "<table border=\"1\" class=\"dataframe\">\n",
       "  <thead>\n",
       "    <tr style=\"text-align: right;\">\n",
       "      <th></th>\n",
       "      <th>Umur</th>\n",
       "      <th>Skor Belanja (1-100)</th>\n",
       "      <th>Labels_kmeans1</th>\n",
       "      <th>Labels_kmeans2</th>\n",
       "    </tr>\n",
       "  </thead>\n",
       "  <tbody>\n",
       "    <tr>\n",
       "      <td>0</td>\n",
       "      <td>-1.455005</td>\n",
       "      <td>-0.396407</td>\n",
       "      <td>0</td>\n",
       "      <td>0</td>\n",
       "    </tr>\n",
       "    <tr>\n",
       "      <td>1</td>\n",
       "      <td>-1.304215</td>\n",
       "      <td>1.119369</td>\n",
       "      <td>0</td>\n",
       "      <td>2</td>\n",
       "    </tr>\n",
       "    <tr>\n",
       "      <td>2</td>\n",
       "      <td>-1.379610</td>\n",
       "      <td>-1.587373</td>\n",
       "      <td>1</td>\n",
       "      <td>0</td>\n",
       "    </tr>\n",
       "    <tr>\n",
       "      <td>3</td>\n",
       "      <td>-1.153425</td>\n",
       "      <td>0.975009</td>\n",
       "      <td>0</td>\n",
       "      <td>2</td>\n",
       "    </tr>\n",
       "    <tr>\n",
       "      <td>4</td>\n",
       "      <td>-0.550263</td>\n",
       "      <td>-0.360317</td>\n",
       "      <td>0</td>\n",
       "      <td>0</td>\n",
       "    </tr>\n",
       "    <tr>\n",
       "      <td>...</td>\n",
       "      <td>...</td>\n",
       "      <td>...</td>\n",
       "      <td>...</td>\n",
       "      <td>...</td>\n",
       "    </tr>\n",
       "    <tr>\n",
       "      <td>243</td>\n",
       "      <td>-0.851844</td>\n",
       "      <td>0.686290</td>\n",
       "      <td>0</td>\n",
       "      <td>2</td>\n",
       "    </tr>\n",
       "    <tr>\n",
       "      <td>244</td>\n",
       "      <td>1.560802</td>\n",
       "      <td>-1.298654</td>\n",
       "      <td>1</td>\n",
       "      <td>1</td>\n",
       "    </tr>\n",
       "    <tr>\n",
       "      <td>245</td>\n",
       "      <td>-0.248682</td>\n",
       "      <td>1.444178</td>\n",
       "      <td>0</td>\n",
       "      <td>2</td>\n",
       "    </tr>\n",
       "    <tr>\n",
       "      <td>246</td>\n",
       "      <td>-0.097892</td>\n",
       "      <td>-0.649036</td>\n",
       "      <td>1</td>\n",
       "      <td>0</td>\n",
       "    </tr>\n",
       "    <tr>\n",
       "      <td>247</td>\n",
       "      <td>-0.474868</td>\n",
       "      <td>1.299818</td>\n",
       "      <td>0</td>\n",
       "      <td>2</td>\n",
       "    </tr>\n",
       "  </tbody>\n",
       "</table>\n",
       "<p>248 rows × 4 columns</p>\n",
       "</div>"
      ],
      "text/plain": [
       "         Umur  Skor Belanja (1-100)  Labels_kmeans1  Labels_kmeans2\n",
       "0   -1.455005             -0.396407               0               0\n",
       "1   -1.304215              1.119369               0               2\n",
       "2   -1.379610             -1.587373               1               0\n",
       "3   -1.153425              0.975009               0               2\n",
       "4   -0.550263             -0.360317               0               0\n",
       "..        ...                   ...             ...             ...\n",
       "243 -0.851844              0.686290               0               2\n",
       "244  1.560802             -1.298654               1               1\n",
       "245 -0.248682              1.444178               0               2\n",
       "246 -0.097892             -0.649036               1               0\n",
       "247 -0.474868              1.299818               0               2\n",
       "\n",
       "[248 rows x 4 columns]"
      ]
     },
     "execution_count": 65,
     "metadata": {},
     "output_type": "execute_result"
    }
   ],
   "source": [
    "df_with_labels"
   ]
  },
  {
   "cell_type": "code",
   "execution_count": 67,
   "metadata": {},
   "outputs": [
    {
     "name": "stdout",
     "output_type": "stream",
     "text": [
      "n_cluster = 3\n"
     ]
    },
    {
     "data": {
      "image/png": "[encoded data removed]",
      "text/plain": [
       "<Figure size 864x576 with 1 Axes>"
      ]
     },
     "metadata": {
      "needs_background": "light"
     },
     "output_type": "display_data"
    }
   ],
   "source": [
    "#visualisasi data hasil cluster dengan number of clusters = 3\n",
    "\n",
    "print('n_cluster = 3')\n",
    "fig3, ax3 = plt.subplots(figsize=(12,8))\n",
    "ax3.scatter(df_with_labels['Umur'][df_with_labels.Labels_kmeans2 == 0],\n",
    "            df_with_labels['Skor Belanja (1-100)'][df_with_labels.Labels_kmeans2 == 0],\n",
    "           c='green',s=90,edgecolor='green')\n",
    "ax3.scatter(df_with_labels['Umur'][df_with_labels.Labels_kmeans2 == 1],\n",
    "            df_with_labels['Skor Belanja (1-100)'][df_with_labels.Labels_kmeans2 == 1],\n",
    "           c='r',s=90,edgecolor='green')\n",
    "ax3.scatter(df_with_labels['Umur'][df_with_labels.Labels_kmeans2 == 2],\n",
    "            df_with_labels['Skor Belanja (1-100)'][df_with_labels.Labels_kmeans2 == 2],\n",
    "           c='b',s=90,edgecolor='green')\n",
    "ax3.set_xlabel('Umur')\n",
    "ax3.set_ylabel('Skor Belanja (1-100)')\n",
    "\n",
    "centers2 = kmeans2.cluster_centers_\n",
    "ax3.scatter(centers2[:,0],centers2[:,1],c='black',s=500)\n",
    "plt.show()"
   ]
  },
  {
   "cell_type": "markdown",
   "metadata": {
    "id": "Fo1GIiVdFP4j"
   },
   "source": [
    "Expected output:\n",
    "\n",
    "n_cluster =2\n",
    "\n",
    "![](https://drive.google.com/uc?id=1RHedPeGR48w-cWl7WWkIsHTSB2DRgynO)\n",
    "\n",
    "\n",
    "Elbow graph\n",
    "\n",
    "![](https://drive.google.com/uc?id=1S3_uvQWzJCi8YwSBbpu2imKbUBZ3JdmV)\n",
    "\n",
    "n_cluster =3\n",
    "\n",
    "![](https://drive.google.com/uc?id=1EVMDQgPpC8vYpfxilyiJMRDNIr-JXULd)"
   ]
  },
  {
   "cell_type": "markdown",
   "metadata": {
    "id": "5xpMIoEcm8MM"
   },
   "source": [
    "\n",
    "\n",
    "---\n",
    "\n",
    "\n",
    "\n",
    "---\n",
    "\n",
    "\n",
    "\n",
    "---\n",
    "\n"
   ]
  },
  {
   "cell_type": "markdown",
   "metadata": {
    "id": "pt-NFlqTm-Og"
   },
   "source": [
    "# Soal 3. Analisa Data Hasil Clustering\n",
    "\n",
    "Dari hasil klustering diatas, buatlah sebuah analisa segmentasi pelanggan untuk kemajuan supermarket. "
   ]
  },
  {
   "cell_type": "markdown",
   "metadata": {
    "id": "zNPDstJynpva"
   },
   "source": [
    "Jawab disini: dari hasil klustering dengan menggunakan 3 jenis kluster, kita dapat melihat 3 jenis golongan skor belanja yang diberikan oleh pelanggan di supermarket. golongan yang pertama adalah pelanggan dengan usia muda yang memberikan skor belanja yang rendah, golongan ini diberi warna hijau. lalu ada golongan kedua yaitu pelanggan dengan usia muda yang memberikan skor belanja yang tinggi, golongan ini diberi warna biru. lalu golongan yang terakhir yaitu pelanggan dengan usia tua yang memberikan skor belanja rendah."
   ]
  }
 ],
 "metadata": {
  "colab": {
   "collapsed_sections": [],
   "name": "Tugas_Day_3(EDA).ipynb",
   "provenance": [],
   "toc_visible": true
  },
  "kernelspec": {
   "display_name": "Python 3",
   "language": "python",
   "name": "python3"
  },
  "language_info": {
   "codemirror_mode": {
    "name": "ipython",
    "version": 3
   },
   "file_extension": ".py",
   "mimetype": "text/x-python",
   "name": "python",
   "nbconvert_exporter": "python",
   "pygments_lexer": "ipython3",
   "version": "3.7.4"
  }
 },
 "nbformat": 4,
 "nbformat_minor": 1
}
